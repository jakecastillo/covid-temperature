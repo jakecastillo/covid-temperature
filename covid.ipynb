{
 "cells": [
  {
   "cell_type": "markdown",
   "metadata": {},
   "source": [
    "# COVID-19 and Temperature\n",
    "\n",
    "As we approach the summer months, how might the rate of COVID-19 infections in humans increase or decrease? I aim to find a correlation between the infection rate and the temperature. To accomplish this, I will gather data about various US counties' monthly:\n",
    "\n",
    "- Total number of infections\n",
    "- Total number of deaths\n",
    "- Average temperature\n",
    "- Population Density\n",
    "\n",
    "I wanted to drill in the data down to the county and month in order to leave out rooms for error such as the different temperatures per month and the varied temperatures between counties. This level of specificity should be fairly sufficient since counties generally have the same temperature due to small variations in latitude, longitude, and biomes between them. I also elected to choose the United States only because of the varied temperatures and biomes it has, and also the US had widespread testing insufficiencies. If I included other countries, that would skew the data.\n",
    "\n",
    "Additionally, I also wanted to include population density because this feature is a large indicator affecting the spread of COVID-19. Leaving it out might have negative consequences because county densities vary greatly (e.g LA and Sonomish).\n",
    "\n",
    "USAFacts Google Dataset: https://console.cloud.google.com/marketplace/details/bigquery-public-datasets/covid19-dataset-list?filter=solution-type:dataset&filter=category:covid19&id=4a850823-3f83-48f5-92d1-01ba6f8ed81e\n",
    "\n",
    "```SELECT * FROM `bigquery-public-data.covid19_usafacts.confirmed_cases` LIMIT 1000```\n",
    "\n",
    "EPA Historical Air Quality: \n"
   ]
  },
  {
   "cell_type": "code",
   "execution_count": 2,
   "metadata": {},
   "outputs": [
    {
     "output_type": "execute_result",
     "data": {
      "text/plain": "   county_fips_code        county_name state  _2_1_20  _2_2_20  _2_3_20  \\\n0              6073   San Diego County    CA        0        0        0   \n1              1097      Mobile County    AL        0        0        0   \n2             34015  Gloucester County    NJ        0        0        0   \n3             26065      Ingham County    MI        0        0        0   \n4             29077      Greene County    MO        0        0        0   \n\n   _2_4_20  _2_5_20  _2_6_20  _2_7_20  ...  _4_21_20  _4_22_20  _4_23_20  \\\n0        0        0        0        0  ...      2434      2491      2643   \n1        0        0        0        0  ...       721       759       810   \n2        0        0        0        0  ...       808       856       899   \n3        0        0        0        0  ...       335       350       370   \n4        0        0        0        0  ...        82        82        82   \n\n   _4_24_20  _4_25_20  _4_26_20  _4_27_20  _4_28_20  _4_29_20  _4_30_20  \n0      2826      2943      3043      3141      3314      3432      3564  \n1       845       888       917       942       994      1041      1057  \n2       923       949       976      1111      1179      1208      1251  \n3       391       395       406       413       426       446       470  \n4        82        82        82        82        82        83        85  \n\n[5 rows x 93 columns]",
      "text/html": "<div>\n<style scoped>\n    .dataframe tbody tr th:only-of-type {\n        vertical-align: middle;\n    }\n\n    .dataframe tbody tr th {\n        vertical-align: top;\n    }\n\n    .dataframe thead th {\n        text-align: right;\n    }\n</style>\n<table border=\"1\" class=\"dataframe\">\n  <thead>\n    <tr style=\"text-align: right;\">\n      <th></th>\n      <th>county_fips_code</th>\n      <th>county_name</th>\n      <th>state</th>\n      <th>_2_1_20</th>\n      <th>_2_2_20</th>\n      <th>_2_3_20</th>\n      <th>_2_4_20</th>\n      <th>_2_5_20</th>\n      <th>_2_6_20</th>\n      <th>_2_7_20</th>\n      <th>...</th>\n      <th>_4_21_20</th>\n      <th>_4_22_20</th>\n      <th>_4_23_20</th>\n      <th>_4_24_20</th>\n      <th>_4_25_20</th>\n      <th>_4_26_20</th>\n      <th>_4_27_20</th>\n      <th>_4_28_20</th>\n      <th>_4_29_20</th>\n      <th>_4_30_20</th>\n    </tr>\n  </thead>\n  <tbody>\n    <tr>\n      <th>0</th>\n      <td>6073</td>\n      <td>San Diego County</td>\n      <td>CA</td>\n      <td>0</td>\n      <td>0</td>\n      <td>0</td>\n      <td>0</td>\n      <td>0</td>\n      <td>0</td>\n      <td>0</td>\n      <td>...</td>\n      <td>2434</td>\n      <td>2491</td>\n      <td>2643</td>\n      <td>2826</td>\n      <td>2943</td>\n      <td>3043</td>\n      <td>3141</td>\n      <td>3314</td>\n      <td>3432</td>\n      <td>3564</td>\n    </tr>\n    <tr>\n      <th>1</th>\n      <td>1097</td>\n      <td>Mobile County</td>\n      <td>AL</td>\n      <td>0</td>\n      <td>0</td>\n      <td>0</td>\n      <td>0</td>\n      <td>0</td>\n      <td>0</td>\n      <td>0</td>\n      <td>...</td>\n      <td>721</td>\n      <td>759</td>\n      <td>810</td>\n      <td>845</td>\n      <td>888</td>\n      <td>917</td>\n      <td>942</td>\n      <td>994</td>\n      <td>1041</td>\n      <td>1057</td>\n    </tr>\n    <tr>\n      <th>2</th>\n      <td>34015</td>\n      <td>Gloucester County</td>\n      <td>NJ</td>\n      <td>0</td>\n      <td>0</td>\n      <td>0</td>\n      <td>0</td>\n      <td>0</td>\n      <td>0</td>\n      <td>0</td>\n      <td>...</td>\n      <td>808</td>\n      <td>856</td>\n      <td>899</td>\n      <td>923</td>\n      <td>949</td>\n      <td>976</td>\n      <td>1111</td>\n      <td>1179</td>\n      <td>1208</td>\n      <td>1251</td>\n    </tr>\n    <tr>\n      <th>3</th>\n      <td>26065</td>\n      <td>Ingham County</td>\n      <td>MI</td>\n      <td>0</td>\n      <td>0</td>\n      <td>0</td>\n      <td>0</td>\n      <td>0</td>\n      <td>0</td>\n      <td>0</td>\n      <td>...</td>\n      <td>335</td>\n      <td>350</td>\n      <td>370</td>\n      <td>391</td>\n      <td>395</td>\n      <td>406</td>\n      <td>413</td>\n      <td>426</td>\n      <td>446</td>\n      <td>470</td>\n    </tr>\n    <tr>\n      <th>4</th>\n      <td>29077</td>\n      <td>Greene County</td>\n      <td>MO</td>\n      <td>0</td>\n      <td>0</td>\n      <td>0</td>\n      <td>0</td>\n      <td>0</td>\n      <td>0</td>\n      <td>0</td>\n      <td>...</td>\n      <td>82</td>\n      <td>82</td>\n      <td>82</td>\n      <td>82</td>\n      <td>82</td>\n      <td>82</td>\n      <td>82</td>\n      <td>82</td>\n      <td>83</td>\n      <td>85</td>\n    </tr>\n  </tbody>\n</table>\n<p>5 rows × 93 columns</p>\n</div>"
     },
     "metadata": {},
     "execution_count": 2
    }
   ],
   "source": [
    "import pandas\n",
    "\n",
    "# covid_data = pandas.read_csv('./covid-confirmed-cases.csv')\n",
    "\n",
    "# # Select only US counties\n",
    "# us_covid = covid_data.iloc[211:401]\n",
    "\n",
    "# # Drop unneeded data\n",
    "# us_covid.drop(covid_data.columns[1:14], axis=1, inplace=True)\n",
    "\n",
    "# us_covid.to_csv('covid-clean.csv')\n",
    "\n",
    "import pandas\n",
    "\n",
    "covid_data = pandas.read_csv('./covid-confirmed-usafacts.csv')\n",
    "\n",
    "covid_data.drop(covid_data.columns[3:14], axis=1, inplace=True)\n",
    "\n",
    "# Remove FIPS Code & January\n",
    "covid_data.drop(covid_data.columns[3:14], axis=1, inplace=True)\n",
    "\n",
    "# Remove May\n",
    "covid_data.drop(covid_data.columns[93:], axis=1, inplace=True)\n",
    "\n",
    "# Preview\n",
    "covid_data.head()"
   ]
  },
  {
   "cell_type": "code",
   "execution_count": 3,
   "metadata": {},
   "outputs": [],
   "source": [
    "covid_data.to_csv('covid-clean.csv')"
   ]
  },
  {
   "cell_type": "code",
   "execution_count": 25,
   "metadata": {},
   "outputs": [
    {
     "output_type": "stream",
     "name": "stdout",
     "text": "San Diego County\n"
    }
   ],
   "source": [
    "print(covid_data.values[0][1])"
   ]
  },
  {
   "cell_type": "code",
   "execution_count": 11,
   "metadata": {},
   "outputs": [
    {
     "output_type": "stream",
     "name": "stdout",
     "text": "Index(['county_fips_code', 'county_name', 'state', '_2_1_20', '_2_2_20',\n       '_2_3_20', '_2_4_20', '_2_5_20', '_2_6_20', '_2_7_20', '_2_8_20',\n       '_2_9_20', '_2_10_20', '_2_11_20', '_2_12_20', '_2_13_20', '_2_14_20',\n       '_2_15_20', '_2_16_20', '_2_17_20', '_2_18_20', '_2_19_20', '_2_20_20',\n       '_2_21_20', '_2_22_20', '_2_23_20', '_2_24_20', '_2_25_20', '_2_26_20',\n       '_2_27_20', '_2_28_20', '_2_29_20', '_3_1_20', '_3_2_20', '_3_3_20',\n       '_3_4_20', '_3_5_20', '_3_6_20', '_3_7_20', '_3_8_20', '_3_9_20',\n       '_3_10_20', '_3_11_20', '_3_12_20', '_3_13_20', '_3_14_20', '_3_15_20',\n       '_3_16_20', '_3_17_20', '_3_18_20', '_3_19_20', '_3_20_20', '_3_21_20',\n       '_3_22_20', '_3_23_20', '_3_24_20', '_3_25_20', '_3_26_20', '_3_27_20',\n       '_3_28_20', '_3_29_20', '_3_30_20', '_3_31_20', '_4_1_20', '_4_2_20',\n       '_4_3_20', '_4_4_20', '_4_5_20', '_4_6_20', '_4_7_20', '_4_8_20',\n       '_4_9_20', '_4_10_20', '_4_11_20', '_4_12_20', '_4_13_20', '_4_14_20',\n       '_4_15_20', '_4_16_20', '_4_17_20', '_4_18_20', '_4_19_20', '_4_20_20',\n       '_4_21_20', '_4_22_20', '_4_23_20', '_4_24_20', '_4_25_20', '_4_26_20',\n       '_4_27_20', '_4_28_20', '_4_29_20', '_4_30_20'],\n      dtype='object')\n"
    }
   ],
   "source": [
    "print(covid_data.columns)"
   ]
  }
 ],
 "metadata": {
  "language_info": {
   "codemirror_mode": {
    "name": "ipython",
    "version": 3
   },
   "file_extension": ".py",
   "mimetype": "text/x-python",
   "name": "python",
   "nbconvert_exporter": "python",
   "pygments_lexer": "ipython3",
   "version": "3.7.5-final"
  },
  "orig_nbformat": 2,
  "kernelspec": {
   "name": "python37364bitdf14e533380f4b0885ba2cac89c71f8d",
   "display_name": "Python 3.7.3 64-bit"
  }
 },
 "nbformat": 4,
 "nbformat_minor": 2
}