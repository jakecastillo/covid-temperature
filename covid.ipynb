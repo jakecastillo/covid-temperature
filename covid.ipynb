{
 "cells": [
  {
   "cell_type": "markdown",
   "metadata": {},
   "source": [
    "# COVID-19 and Temperature\n",
    "\n",
    "As we approach the summer months, how might the rate of COVID-19 infections in humans increase or decrease? I aim to find a correlation between the infection rate and the temperature. To accomplish this, I will gather data about various US counties' monthly:\n",
    "\n",
    "- Total number of infections\n",
    "- Total number of deaths\n",
    "- Average temperature\n",
    "- Population Density\n",
    "\n",
    "I wanted to drill in the data down to the county and month in order to leave out rooms for error such as the different temperatures per month and the varied temperatures between counties. This level of specificity should be fairly sufficient since counties generally have the same temperature due to small variations in latitude, longitude, and biomes between them. I also elected to choose the United States only because of the varied temperatures and biomes it has, and also the US had widespread testing insufficiencies. If I included other countries, that would skew the data.\n",
    "\n",
    "Additionally, I also wanted to include population density because this feature is a large indicator affecting the spread of COVID-19. Leaving it out might have negative consequences because county densities vary greatly (e.g LA and Sonomish).\n",
    "\n",
    "USAFacts Google Dataset: https://console.cloud.google.com/marketplace/details/bigquery-public-datasets/covid19-dataset-list?filter=solution-type:dataset&filter=category:covid19&id=4a850823-3f83-48f5-92d1-01ba6f8ed81e\n",
    "\n",
    "```SELECT * FROM `bigquery-public-data.covid19_usafacts.confirmed_cases` LIMIT 1000```\n",
    "\n",
    "EPA Historical Air Quality: \n"
   ]
  },
  {
   "cell_type": "code",
   "execution_count": 152,
   "metadata": {},
   "outputs": [
    {
     "output_type": "stream",
     "name": "stdout",
     "text": "[6019 'Fresno County' 'CA' 6 0 0 0 0 0 0 0 0 0 0 0 0 0 0 0 0 0 0 0 0 0 0 0\n 0 0 0 0 0 0 0 0 0 0 0 0 0 0 0 0 0 0 0 0 0 0 0 1 1 1 1 1 1 2 2 2 2 3 3 6 6\n 6 13 18 19 27 31 43 43 53 68 82 94 100 103 108 124 146 156 173 191 201\n 201 222 222 265 295 311 315 315 351 371 384 419 443 458 458 498 521 538\n 564 615 633]\n"
    }
   ],
   "source": [
    "import pandas\n",
    "\n",
    "# covid_data = pandas.read_csv('./covid-confirmed-cases.csv')\n",
    "\n",
    "# # Select only US counties\n",
    "# us_covid = covid_data.iloc[211:401]\n",
    "\n",
    "# # Drop unneeded data\n",
    "# us_covid.drop(covid_data.columns[1:14], axis=1, inplace=True)\n",
    "\n",
    "# us_covid.to_csv('covid-clean.csv')\n",
    "\n",
    "import pandas\n",
    "\n",
    "covid_data = pandas.read_csv('./covid-confirmed-usafacts.csv')\n",
    "print(covid_data.values[31])\n",
    "\n",
    "covid_data.drop(covid_data.columns[3:14], axis=1, inplace=True)\n",
    "\n",
    "# Remove FIPS Code & January\n",
    "covid_data.drop(covid_data.columns[3:14], axis=1, inplace=True)\n",
    "\n",
    "# Remove May\n",
    "covid_data.drop(covid_data.columns[93:], axis=1, inplace=True)\n",
    "\n",
    "drop = [13,17,19,23,30,32,33,35,36,37,38,39,42,43,44,45,46,47,49,50,58,59,60,61,62,66,69,70,71,73,74,78,82,84,85,86,87,88,89,93,94,97,98,106]\n",
    "\n",
    "for i in drop:\n",
    "    covid_data.drop(covid_data.index[i], inplace=True)\n",
    "\n",
    "covid_data.drop(covid_data.index[107:], inplace=True)\n",
    "\n",
    "covid_data.to_csv('./covid-clean.csv')\n",
    "# Preview\n",
    "# covid_data.head(100)\n"
   ]
  },
  {
   "cell_type": "code",
   "execution_count": 153,
   "metadata": {},
   "outputs": [
    {
     "output_type": "stream",
     "name": "stdout",
     "text": "0 - San Diego County - San Diego County \n1 - Mobile County - Mobile County \n2 - Gloucester County - Gloucester County \n3 - Ingham County - Ingham County \n4 - Greene County - Greene County \n5 - Beaver County - Beaver County \n6 - Waukesha County - Waukesha County \n7 - Sonoma County - Sonoma County \n8 - Cherokee County - Cherokee County \n9 - Worcester County - Worcester County \n10 - Monroe County - Monroe County \n11 - Harris County - Harris County \n12 - Twin Falls County - Twin Falls County \n13 - Daviess County - Daviess County \n14 - Franklin County - Franklin County \n15 - McLennan County - McLennan County \n16 - Matagorda County - Matagorda County \n17 - Cook County - Cook County \n18 - Madison County - Madison County \n19 - Tolland County - Tolland County \n20 - Frederick County - Frederick County \n21 - Jefferson County - Jefferson County \n22 - Madison County - Madison County \n23 - Santa Rosa County - Santa Rosa County \n24 - Seminole County - Seminole County \n25 - Plymouth County - Plymouth County \n26 - Spartanburg County - Spartanburg County \n27 - Fresno County - Fresno County \n28 - Clarke County - Spokane County X\n29 - Kitsap County - East Baton Rouge Parish X\n30 - Thurston County - Washington County X\n31 - Bergen County - Coweta County X\n32 - Assumption Parish - McHenry County X\n33 - East Baton Rouge Parish - New Haven County X\n34 - Washington County - Cuyahoga County X\n35 - Kent County - Delaware County X\n36 - Robertson County - Paulding County X\n37 - Pinellas County - Rensselaer County X\n38 - McHenry County - Sullivan County X\n39 - New Haven County - Gaston County X\n40 - Cuyahoga County - Allegheny County X\n41 - Delaware County - Carroll County X\n42 - Rensselaer County - Washington County X\n43 - Gaston County - Warren County X\n44 - Berkeley County - Schuylkill County X\n45 - Lee County - Durham County X\n46 - Allegheny County - Horry County X\n47 - Washington County - Burlington County X\n48 - Hampden County - Bucks County X\n49 - Schuylkill County - Walker County X\n50 - St. Joseph County - Rockdale County X\n51 - Olmsted County - Jennings County X\n52 - Durham County - Nueces County X\n53 - El Paso County - Harrison County X\n54 - St. Clair County - Richland County X\n55 - Horry County - Baltimore City X\n56 - Burlington County - Pima County X\n57 - Bucks County - Tulare County X\n58 - Walker County - Maricopa County X\n59 - Jennings County - Ventura County X\n60 - Nueces County - Yakima County X\n61 - Morris County - Monterey County X\n62 - Cumberland County - Lafourche Parish X\n63 - Jefferson Parish - Barnstable County X\n64 - Linn County - Providence County X\n65 - Harrison County - Weld County X\n"
    },
    {
     "output_type": "error",
     "ename": "IndexError",
     "evalue": "index 66 is out of bounds for axis 0 with size 66",
     "traceback": [
      "\u001b[0;31m---------------------------------------------------------------------------\u001b[0m",
      "\u001b[0;31mIndexError\u001b[0m                                Traceback (most recent call last)",
      "\u001b[0;32m<ipython-input-153-8994677d520a>\u001b[0m in \u001b[0;36m<module>\u001b[0;34m\u001b[0m\n\u001b[1;32m      3\u001b[0m \u001b[0;34m\u001b[0m\u001b[0m\n\u001b[1;32m      4\u001b[0m \u001b[0;32mfor\u001b[0m \u001b[0mi\u001b[0m \u001b[0;32min\u001b[0m \u001b[0mrange\u001b[0m\u001b[0;34m(\u001b[0m\u001b[0;36m0\u001b[0m\u001b[0;34m,\u001b[0m \u001b[0;36m100\u001b[0m\u001b[0;34m)\u001b[0m\u001b[0;34m:\u001b[0m\u001b[0;34m\u001b[0m\u001b[0;34m\u001b[0m\u001b[0m\n\u001b[0;32m----> 5\u001b[0;31m     \u001b[0mprint\u001b[0m\u001b[0;34m(\u001b[0m\u001b[0;34mf'{i} - {c.values[i][2]} - {t.values[i][1]} {\"X\" if c.values[i][2] != t.values[i][1] else \"\"}'\u001b[0m\u001b[0;34m)\u001b[0m\u001b[0;34m\u001b[0m\u001b[0;34m\u001b[0m\u001b[0m\n\u001b[0m",
      "\u001b[0;31mIndexError\u001b[0m: index 66 is out of bounds for axis 0 with size 66"
     ]
    }
   ],
   "source": [
    "c = pandas.read_csv('./covid-clean.csv')\n",
    "t = pandas.read_csv('./covid-temperature.csv')\n",
    "\n",
    "for i in range(0, 100):\n",
    "    print(f'{i} - {c.values[i][2]} - {t.values[i][1]} {\"X\" if c.values[i][2] != t.values[i][1] else \"\"}')\n"
   ]
  },
  {
   "cell_type": "code",
   "execution_count": 149,
   "metadata": {},
   "outputs": [
    {
     "output_type": "stream",
     "name": "stdout",
     "text": "0 - San Diego County\n1 - Mobile County\n2 - Gloucester County\n3 - Ingham County\n4 - Greene County\n5 - Beaver County\n6 - Waukesha County\n7 - Sonoma County\n8 - Cherokee County\n9 - Worcester County\n10 - Monroe County\n11 - Harris County\n12 - Twin Falls County\n13 - Vanderburgh County\n14 - Daviess County\n15 - Franklin County\n16 - McLennan County\n17 - Matagorda County\n18 - Sandoval County\n19 - Cook County\n20 - Madison County\n21 - Yavapai County\n22 - Tolland County\n23 - Frederick County\n24 - Jefferson County\n25 - Madison County\n26 - Northampton County\n27 - Santa Rosa County\n28 - Seminole County\n29 - Plymouth County\n30 - Spartanburg County\n31 - Fresno County\n32 - Clarke County\n33 - Kitsap County\n34 - Spokane County\n35 - Thurston County\n36 - Bergen County\n37 - Kent County\n38 - Assumption Parish\n39 - Avoyelles Parish\n40 - East Baton Rouge Parish\n41 - Washington County\n42 - Montgomery County\n43 - Kent County\n44 - York County\n45 - Robertson County\n46 - Knox County\n47 - Pinellas County\n48 - Coweta County\n49 - McHenry County\n50 - Trumbull County\n51 - New Haven County\n52 - Cuyahoga County\n53 - Delaware County\n54 - Paulding County\n55 - Rensselaer County\n56 - Sullivan County\n57 - Gaston County\n58 - Burleigh County\n59 - Berkeley County\n60 - Galveston County\n61 - Lee County\n62 - Monroe County\n63 - Allegheny County\n64 - Carroll County\n65 - Washington County\n66 - Hampden County\n67 - Warren County\n68 - Schuylkill County\n69 - Osceola County\n70 - St. Joseph County\n71 - Olmsted County\n72 - Durham County\n73 - El Paso County\n74 - St. Clair County\n75 - Horry County\n76 - Burlington County\n77 - Bucks County\n78 - Middlesex County\n79 - Walker County\n80 - Rockdale County\n81 - Jennings County\n82 - Kenton County\n83 - Nueces County\n84 - Anne Arundel County\n85 - Morris County\n86 - Volusia County\n87 - Cumberland County\n88 - Jefferson Parish\n89 - Linn County\n90 - Harrison County\n91 - Richland County\n92 - Baltimore City\n93 - Charleston County\n94 - Travis County\n95 - Pima County\n96 - Tulare County\n97 - Minnehaha County\n98 - Bexar County\n99 - Maricopa County\n100 - Ventura County\n101 - Yakima County\n102 - Monterey County\n103 - Lafourche Parish\n104 - Barnstable County\n105 - Providence County\n106 - Adams County\n[37131 'Northampton County' 'NC' 37 0 0 0 0 0 0 0 0 0 0 0 0 0 0 0 0 0 0 0\n 0 0 0 0 0 0 0 0 0 0 0 0 0 0 0 0 0 0 0 0 0 0 0 0 0 0 0 0 0 0 0 0 0 0 0 0 0\n 0 0 0 0 0 0 0 0 3 3 4 25 26 30 30 30 33 36 42 46 51 52 54 55 60 61 61 63\n 65 69 69 69 72 72 73 73 74 79 80 80 81 81 81 82 87 89]\n"
    }
   ],
   "source": [
    "cd = pandas.read_csv('./covid-confirmed-usafacts.csv')\n",
    "\n",
    "for i in range(0,107):\n",
    "    print(f'{i} - {cd.values[i][1]}')\n",
    "\n",
    "print(cd.values[26])"
   ]
  },
  {
   "cell_type": "code",
   "execution_count": null,
   "metadata": {},
   "outputs": [],
   "source": []
  }
 ],
 "metadata": {
  "language_info": {
   "codemirror_mode": {
    "name": "ipython",
    "version": 3
   },
   "file_extension": ".py",
   "mimetype": "text/x-python",
   "name": "python",
   "nbconvert_exporter": "python",
   "pygments_lexer": "ipython3",
   "version": "3.7.5-final"
  },
  "orig_nbformat": 2,
  "kernelspec": {
   "name": "python37364bitdf14e533380f4b0885ba2cac89c71f8d",
   "display_name": "Python 3.7.3 64-bit"
  }
 },
 "nbformat": 4,
 "nbformat_minor": 2
}